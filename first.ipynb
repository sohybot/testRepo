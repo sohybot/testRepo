{
 "cells": [
  {
   "cell_type": "code",
   "execution_count": 3,
   "id": "d4cf8c40",
   "metadata": {},
   "outputs": [
    {
     "name": "stdout",
     "output_type": "stream",
     "text": [
      "HELLO World\n"
     ]
    }
   ],
   "source": [
    "print(\"HELLO World\")"
   ]
  },
  {
   "cell_type": "code",
   "execution_count": 2,
   "id": "2de630b2",
   "metadata": {},
   "outputs": [
    {
     "name": "stdout",
     "output_type": "stream",
     "text": [
      "안녕\n"
     ]
    }
   ],
   "source": [
    "print(\"안녕\")"
   ]
  },
  {
   "cell_type": "code",
   "execution_count": null,
   "id": "5db2c86f",
   "metadata": {},
   "outputs": [],
   "source": []
  }
 ],
 "metadata": {
  "kernelspec": {
   "display_name": "Python 3",
   "language": "python",
   "name": "python3"
  },
  "language_info": {
   "codemirror_mode": {
    "name": "ipython",
    "version": 3
   },
   "file_extension": ".py",
   "mimetype": "text/x-python",
   "name": "python",
   "nbconvert_exporter": "python",
   "pygments_lexer": "ipython3",
   "version": "3.12.1"
  }
 },
 "nbformat": 4,
 "nbformat_minor": 5
}
